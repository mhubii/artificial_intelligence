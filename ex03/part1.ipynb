{
 "cells": [
  {
   "cell_type": "code",
   "execution_count": 181,
   "metadata": {},
   "outputs": [
    {
     "name": "stdout",
     "output_type": "stream",
     "text": [
      "x = [-0.5        -0.41666667 -0.33333333 -0.25       -0.16666667 -0.08333333\n",
      "  0.          0.08333333  0.16666667  0.25        0.33333333  0.41666667\n",
      "  0.5         0.58333333  0.66666667  0.75        0.83333333  0.91666667\n",
      "  1.          1.08333333  1.16666667  1.25        1.33333333  1.41666667\n",
      "  1.5         1.58333333  1.66666667  1.75        1.83333333  1.91666667\n",
      "  2.        ]\n",
      "y = [  8.75000000e-04   3.85802469e-04   1.35802469e-04   3.12500000e-05\n",
      "   1.54320988e-06  -7.71604938e-07   0.00000000e+00   2.70061728e-06\n",
      "   2.93209877e-05   1.25000000e-04   3.58024691e-04   8.19830247e-04\n",
      "   1.62500000e-03   2.91126543e-03   4.83950617e-03   7.59375000e-03\n",
      "   1.13811728e-02   1.64320988e-02   2.30000000e-02   3.13614969e-02\n",
      "   4.18163580e-02   5.46875000e-02   7.03209877e-02   8.90860340e-02\n",
      "   1.11375000e-01   1.37603395e-01   1.68209877e-01   2.03656250e-01\n",
      "   2.44427469e-01   2.91031636e-01   3.44000000e-01]\n",
      "Best value -7.71604938272e-07 at pos 5\n",
      "-0.0833333333333 5 31 herererererer\n",
      "Success!\n"
     ]
    },
    {
     "name": "stderr",
     "output_type": "stream",
     "text": [
      "<ipython-input-181-f9507313879c>:50: SyntaxWarning: assertion is always true, perhaps remove parentheses?\n",
      "  assert(0 <= int(best_pos) < len(y), 'incorrect index')\n",
      "C:\\Users\\lukbo\\Anaconda3\\lib\\site-packages\\ipykernel_launcher.py:39: RuntimeWarning: overflow encountered in exp\n"
     ]
    },
    {
     "data": {
      "image/png": "[encoded data removed]",
      "text/plain": [
       "<matplotlib.figure.Figure at 0x1e606d582b0>"
      ]
     },
     "metadata": {},
     "output_type": "display_data"
    }
   ],
   "source": [
    "import numpy as np\n",
    "import random\n",
    "import matplotlib.pyplot as plt\n",
    "\n",
    "\n",
    "def f(x):\n",
    "    \"\"\"\n",
    "    Energy function.\n",
    "    \"\"\"\n",
    "    return 0.2 * np.sin(12.5 * x) + (x - 1)**2 - 5\n",
    "\n",
    "\n",
    "def minimize(x, y, start_position):\n",
    "    \"\"\"\n",
    "    Minimize the energy function.\n",
    "    :param x: array, x coordinates\n",
    "    :param y: array, values of the energy function\n",
    "    :param start_position: int, initial position of the agent\n",
    "    :return: position with the minimal found value of energy function\n",
    "    \"\"\"\n",
    "    best_pos = 0\n",
    "    temp = 500\n",
    "    alpha = 0.9\n",
    "    current = start_position\n",
    "    rand_array = np.random.rand(300)\n",
    "    for iter_num in range(300):\n",
    "        ###\n",
    "        # Exercise: implement Simulated annealing\n",
    "        # update best_pos if found the better one\n",
    "        ###\n",
    "        if rand_array[iter_num]<0.5:\n",
    "            nextstep = current - 1\n",
    "            if nextstep<0:\n",
    "                nextstep = current + 1\n",
    "        else:\n",
    "            nextstep = current + 1\n",
    "        \n",
    "            \n",
    "        prob = np.exp(-(y[nextstep] -y[current])/temp)\n",
    "        if y[current]>y[nextstep]:\n",
    "            current = nextstep\n",
    "        else:\n",
    "            if prob:\n",
    "                current = nextstep\n",
    "        temp = alpha * temp\n",
    "        if y[current] < y[best_pos]:\n",
    "            best_pos = current\n",
    "        pass\n",
    "\n",
    "    assert(0 <= int(best_pos) < len(y), 'incorrect index')\n",
    "    return best_pos\n",
    "\n",
    "\n",
    "def main():\n",
    "    random.seed(2017)\n",
    "    np.random.seed(2017)\n",
    "    x = np.linspace(-0.5, 2, num=31, endpoint=True)\n",
    "    y = f(x)\n",
    "    print ('x = %s' % x)\n",
    "    print ('y = %s' % y)\n",
    "    start_position = 0\n",
    "\n",
    "    best_pos = minimize(x, y, start_position)\n",
    "    print (\"Best value %s at pos %d\" % (y[best_pos], best_pos,))\n",
    "    print(x[best_pos],best_pos,len(y),'herererererer')\n",
    "    if best_pos != np.argmin(y):\n",
    "        print ('You haven\\'t found the global minimum. Try harder!')\n",
    "    else:\n",
    "        print ('Success!')\n",
    "\n",
    "    plt.plot(x, y)\n",
    "    plt.plot(x, y, '--')\n",
    "    plt.plot(x[start_position], y[start_position], '-bo', label='start pos', markersize=13)\n",
    "    plt.plot(x[best_pos], y[best_pos], '-go', label='best found pos', markersize=13)\n",
    "    plt.title('f(x)')\n",
    "    plt.legend()\n",
    "    plt.show()\n",
    "\n",
    "\n",
    "if __name__ == '__main__':\n",
    "    main()\n"
   ]
  },
  {
   "cell_type": "code",
   "execution_count": 170,
   "metadata": {},
   "outputs": [
    {
     "name": "stdout",
     "output_type": "stream",
     "text": [
      "[-1, -1, -1, 1, -1, 1, -1, -1, -1, 1]\n",
      "[ 0.11287225  0.63190484  0.38730813  0.31624562  0.63089059  0.29465108\n",
      "  0.94486453  0.15162571  0.07616901  0.70390961] 0.112872250328\n"
     ]
    }
   ],
   "source": [
    "ra=[]\n",
    "for i in range(10):\n",
    "    if random.randint(0,1)<0.5:\n",
    "         ra.append(-1)\n",
    "    else:\n",
    "        ra.append(1)\n",
    "\n",
    "print(ra)    \n",
    "ri = np.random.rand(10)\n",
    "print(ri,ri[0])\n",
    "    \n",
    "    "
   ]
  },
  {
   "cell_type": "code",
   "execution_count": 111,
   "metadata": {},
   "outputs": [
    {
     "name": "stdout",
     "output_type": "stream",
     "text": [
      "None\n"
     ]
    }
   ],
   "source": [
    "random.seed(2017)\n",
    "np.random.seed(2017)\n",
    "print(np.random.seed(2017))\n",
    "\n"
   ]
  },
  {
   "cell_type": "code",
   "execution_count": 175,
   "metadata": {},
   "outputs": [
    {
     "data": {
      "text/plain": [
       "5"
      ]
     },
     "execution_count": 175,
     "metadata": {},
     "output_type": "execute_result"
    }
   ],
   "source": [
    "int(5.5)"
   ]
  },
  {
   "cell_type": "code",
   "execution_count": null,
   "metadata": {
    "collapsed": true
   },
   "outputs": [],
   "source": []
  }
 ],
 "metadata": {
  "kernelspec": {
   "display_name": "Python 3",
   "language": "python",
   "name": "python3"
  },
  "language_info": {
   "codemirror_mode": {
    "name": "ipython",
    "version": 3
   },
   "file_extension": ".py",
   "mimetype": "text/x-python",
   "name": "python",
   "nbconvert_exporter": "python",
   "pygments_lexer": "ipython3",
   "version": "3.6.2"
  }
 },
 "nbformat": 4,
 "nbformat_minor": 2
}
